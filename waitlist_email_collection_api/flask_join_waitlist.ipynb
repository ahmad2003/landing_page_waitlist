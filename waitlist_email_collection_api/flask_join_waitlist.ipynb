{
 "cells": [
  {
   "cell_type": "code",
   "execution_count": 20,
   "id": "ed1ce8ff",
   "metadata": {},
   "outputs": [],
   "source": [
    "import json\n",
    "from flask import Flask, request, jsonify\n",
    "\n",
    "import numpy as np\n",
    "import os\n",
    "import pandas as pd"
   ]
  },
  {
   "cell_type": "code",
   "execution_count": 21,
   "id": "e7141c1b",
   "metadata": {},
   "outputs": [],
   "source": [
    "app = Flask(__name__)\n",
    "\n",
    "quarks = [{'name': 'up', 'charge': '+2/3'},\n",
    "          {'name': 'down', 'charge': '-1/3'},\n",
    "          {'name': 'charm', 'charge': '+2/3'},\n",
    "          {'name': 'strange', 'charge': '-1/3'}]\n",
    "\n",
    "waitList_n = 0\n",
    "\n",
    "@app.route('/', methods=['GET'])\n",
    "def hello_world():\n",
    "    return jsonify({'message' : 'Hello, World!'})\n",
    "\n",
    "@app.route('/quarks/<string:name>', methods=['GET'])\n",
    "def returnOne(name):\n",
    "    print('in function returnOne')\n",
    "    for quark in quarks:\n",
    "        if(quark['name']==name):\n",
    "            return jsonify({'quarks' : quark})\n",
    "    return jsonify({'quarks' : ''})\n",
    "\n",
    "@app.route('/quarks/search/<string:name>', methods=['GET'])\n",
    "def returnOneTest(name):\n",
    "    print('in function ReturnOneTest')\n",
    "    print('query : ',name)\n",
    "    for quark in quarks:\n",
    "        if(quark['name']==name):\n",
    "            return jsonify({'quarks' : quark})\n",
    "    return jsonify({'quarks' : ''})\n",
    "\n",
    "@app.route('/join_waitlist', methods=['POST'])\n",
    "def addOne():\n",
    "    data = request.get_json()\n",
    "    email_address = data['email']\n",
    "    print('email received : ',email_address)\n",
    "    dir_name = 'C:/UpWork/philip_realestate/landing_page/assets/'\n",
    "    emails_file_name = 'email_addresses.csv'\n",
    "    if os.path.isfile(dir_name+emails_file_name)==False:\n",
    "        print('File not found! Creating the file...')\n",
    "        email_df = pd.DataFrame(columns=['Email'])\n",
    "        email_df.to_csv(dir_name+emails_file_name,sep=',',index=False)\n",
    "\n",
    "    email_df = pd.DataFrame([email_address])\n",
    "    email_df.to_csv(dir_name+emails_file_name, mode='a', header=False, index=False)\n",
    "    waitList_n =+ 1\n",
    "    return jsonify({'status' : 'success'})\n",
    "    \n",
    "@app.route('/get_waitlist_count', methods=['GET'])\n",
    "def getWaitListCount():\n",
    "    dir_name = 'C:/UpWork/philip_realestate/landing_page/assets/'\n",
    "    emails_file_name = 'email_addresses.csv'\n",
    "    email_df = pd.read_csv(dir_name+emails_file_name)\n",
    "    return jsonify({'waitList_count' : str(len(email_df))})"
   ]
  },
  {
   "cell_type": "code",
   "execution_count": null,
   "id": "6ee6e0af",
   "metadata": {},
   "outputs": [
    {
     "name": "stdout",
     "output_type": "stream",
     "text": [
      " * Serving Flask app '__main__'\n",
      " * Debug mode: off\n"
     ]
    },
    {
     "name": "stderr",
     "output_type": "stream",
     "text": [
      "WARNING: This is a development server. Do not use it in a production deployment. Use a production WSGI server instead.\n",
      " * Running on http://127.0.0.1:5000\n",
      "Press CTRL+C to quit\n",
      "127.0.0.1 - - [06/Sep/2023 11:20:39] \"GET /get_waitlist_count HTTP/1.1\" 200 -\n",
      "127.0.0.1 - - [06/Sep/2023 11:21:49] \"POST /join_waitlist HTTP/1.1\" 200 -\n"
     ]
    },
    {
     "name": "stdout",
     "output_type": "stream",
     "text": [
      "email received :  14030004@lums.edu.pk\n"
     ]
    },
    {
     "name": "stderr",
     "output_type": "stream",
     "text": [
      "127.0.0.1 - - [06/Sep/2023 11:21:53] \"GET /get_waitlist_count HTTP/1.1\" 200 -\n",
      "127.0.0.1 - - [06/Sep/2023 11:22:36] \"POST /join_waitlist HTTP/1.1\" 200 -\n"
     ]
    },
    {
     "name": "stdout",
     "output_type": "stream",
     "text": [
      "email received :  l104037@lhr.nu.edu.pk\n"
     ]
    },
    {
     "name": "stderr",
     "output_type": "stream",
     "text": [
      "127.0.0.1 - - [06/Sep/2023 11:22:39] \"GET /get_waitlist_count HTTP/1.1\" 200 -\n"
     ]
    }
   ],
   "source": [
    "app.run()"
   ]
  },
  {
   "cell_type": "code",
   "execution_count": 12,
   "id": "96b3cfdf",
   "metadata": {},
   "outputs": [
    {
     "name": "stdout",
     "output_type": "stream",
     "text": [
      "File not found\n"
     ]
    }
   ],
   "source": [
    "dir_name = 'C:/UpWork/philip_realestate/landing_page/assets/'\n",
    "emails_file_name = 'email_addresses.csv'\n",
    "if os.path.isfile(dir_name+emails_file_name)==False:\n",
    "    print('File not found')\n",
    "    email_df = pd.DataFrame(columns=['Email'])\n",
    "    email_df.to_csv(dir_name+emails_file_name,sep=',',index=False)\n",
    "\n",
    "email_df = pd.DataFrame([email_address])\n",
    "email_df.to_csv(dir_name+emails_file_name, mode='a', header=False, index=False)"
   ]
  },
  {
   "cell_type": "code",
   "execution_count": 11,
   "id": "9f7cb371",
   "metadata": {},
   "outputs": [],
   "source": [
    "email_address = 'muhammadahmad0192'"
   ]
  },
  {
   "cell_type": "code",
   "execution_count": 7,
   "id": "64c402b1",
   "metadata": {},
   "outputs": [],
   "source": [
    "aa = 'sdfk haskdf'"
   ]
  },
  {
   "cell_type": "code",
   "execution_count": 16,
   "id": "9677d13d",
   "metadata": {},
   "outputs": [],
   "source": [
    "aa = 1"
   ]
  },
  {
   "cell_type": "code",
   "execution_count": 18,
   "id": "7eeb8663",
   "metadata": {},
   "outputs": [],
   "source": [
    "dir_name = 'C:/UpWork/philip_realestate/landing_page/assets/'\n",
    "emails_file_name = 'email_addresses.csv'\n",
    "bb = pd.read_csv(dir_name+emails_file_name)"
   ]
  },
  {
   "cell_type": "code",
   "execution_count": 19,
   "id": "0c79e523",
   "metadata": {},
   "outputs": [
    {
     "data": {
      "text/plain": [
       "4"
      ]
     },
     "execution_count": 19,
     "metadata": {},
     "output_type": "execute_result"
    }
   ],
   "source": [
    "len(bb)"
   ]
  },
  {
   "cell_type": "code",
   "execution_count": null,
   "id": "11826b4e",
   "metadata": {},
   "outputs": [],
   "source": []
  }
 ],
 "metadata": {
  "kernelspec": {
   "display_name": "Python 3 (ipykernel)",
   "language": "python",
   "name": "python3"
  },
  "language_info": {
   "codemirror_mode": {
    "name": "ipython",
    "version": 3
   },
   "file_extension": ".py",
   "mimetype": "text/x-python",
   "name": "python",
   "nbconvert_exporter": "python",
   "pygments_lexer": "ipython3",
   "version": "3.11.3"
  }
 },
 "nbformat": 4,
 "nbformat_minor": 5
}
