{
 "cells": [
  {
   "cell_type": "code",
   "execution_count": 9,
   "id": "ed1ce8ff",
   "metadata": {},
   "outputs": [],
   "source": [
    "import json\n",
    "from flask import Flask, request, jsonify\n",
    "\n",
    "import numpy as np\n",
    "import os\n",
    "import pandas as pd\n",
    "\n",
    "from flask_cors import CORS"
   ]
  },
  {
   "cell_type": "code",
   "execution_count": 10,
   "id": "e7141c1b",
   "metadata": {},
   "outputs": [],
   "source": [
    "app = Flask(__name__)\n",
    "CORS(app)\n",
    "\n",
    "waitList_n = 0\n",
    "@app.route('/join_waitlist', methods=['POST'])\n",
    "def joinWaitList():\n",
    "    data = request.get_json()\n",
    "    email_address = data['email']\n",
    "    print('email received : ',email_address)\n",
    "    emails_file_name = 'email_addresses.csv'\n",
    "    if os.path.isfile(emails_file_name)==False:\n",
    "        print('File not found! Creating the file...')\n",
    "        email_df = pd.DataFrame(columns=['Email'])\n",
    "        email_df.to_csv(emails_file_name,sep=',',index=False)\n",
    "\n",
    "    email_df = pd.DataFrame([email_address])\n",
    "    email_df.to_csv(emails_file_name, mode='a', header=False, index=False)\n",
    "    waitList_n =+ 1\n",
    "    return jsonify({'status' : 'success'})\n",
    "    \n",
    "@app.route('/get_waitlist_count', methods=['GET'])\n",
    "def getWaitListCount():\n",
    "    if os.path.isfile('email_addresses.csv')==True:\n",
    "        email_df = pd.read_csv('email_addresses.csv')\n",
    "        return jsonify({'waitList_count' : str(len(email_df))})\n",
    "    return jsonify({'waitList_count' : str(0)})"
   ]
  },
  {
   "cell_type": "code",
   "execution_count": null,
   "id": "6ee6e0af",
   "metadata": {},
   "outputs": [
    {
     "name": "stdout",
     "output_type": "stream",
     "text": [
      " * Serving Flask app '__main__'\n",
      " * Debug mode: off\n"
     ]
    },
    {
     "name": "stderr",
     "output_type": "stream",
     "text": [
      "WARNING: This is a development server. Do not use it in a production deployment. Use a production WSGI server instead.\n",
      " * Running on http://127.0.0.1:5000\n",
      "Press CTRL+C to quit\n",
      "127.0.0.1 - - [07/Sep/2023 00:45:03] \"OPTIONS /join_waitlist/join_waitlist HTTP/1.1\" 404 -\n",
      "127.0.0.1 - - [07/Sep/2023 00:46:10] \"OPTIONS /join_waitlist HTTP/1.1\" 200 -\n",
      "127.0.0.1 - - [07/Sep/2023 00:46:10] \"POST /join_waitlist HTTP/1.1\" 200 -\n"
     ]
    },
    {
     "name": "stdout",
     "output_type": "stream",
     "text": [
      "email received :  muhammadahmad0192@gmail.com\n"
     ]
    }
   ],
   "source": [
    "app.run()"
   ]
  },
  {
   "cell_type": "code",
   "execution_count": 8,
   "id": "32fef4f3",
   "metadata": {},
   "outputs": [
    {
     "name": "stdout",
     "output_type": "stream",
     "text": [
      "Collecting flask-cors\n",
      "  Downloading Flask_Cors-4.0.0-py2.py3-none-any.whl (14 kB)\n",
      "Requirement already satisfied: Flask>=0.9 in c:\\users\\ahmad\\anaconda3\\lib\\site-packages (from flask-cors) (2.2.2)\n",
      "Requirement already satisfied: Werkzeug>=2.2.2 in c:\\users\\ahmad\\anaconda3\\lib\\site-packages (from Flask>=0.9->flask-cors) (2.2.3)\n",
      "Requirement already satisfied: Jinja2>=3.0 in c:\\users\\ahmad\\anaconda3\\lib\\site-packages (from Flask>=0.9->flask-cors) (3.1.2)\n",
      "Requirement already satisfied: itsdangerous>=2.0 in c:\\users\\ahmad\\anaconda3\\lib\\site-packages (from Flask>=0.9->flask-cors) (2.0.1)\n",
      "Requirement already satisfied: click>=8.0 in c:\\users\\ahmad\\anaconda3\\lib\\site-packages (from Flask>=0.9->flask-cors) (8.0.4)\n",
      "Requirement already satisfied: colorama in c:\\users\\ahmad\\anaconda3\\lib\\site-packages (from click>=8.0->Flask>=0.9->flask-cors) (0.4.6)\n",
      "Requirement already satisfied: MarkupSafe>=2.0 in c:\\users\\ahmad\\anaconda3\\lib\\site-packages (from Jinja2>=3.0->Flask>=0.9->flask-cors) (2.1.1)\n",
      "Installing collected packages: flask-cors\n",
      "Successfully installed flask-cors-4.0.0\n"
     ]
    }
   ],
   "source": [
    "!pip install -U flask-cors"
   ]
  },
  {
   "cell_type": "code",
   "execution_count": null,
   "id": "2357c0b4",
   "metadata": {},
   "outputs": [],
   "source": []
  }
 ],
 "metadata": {
  "kernelspec": {
   "display_name": "Python 3 (ipykernel)",
   "language": "python",
   "name": "python3"
  },
  "language_info": {
   "codemirror_mode": {
    "name": "ipython",
    "version": 3
   },
   "file_extension": ".py",
   "mimetype": "text/x-python",
   "name": "python",
   "nbconvert_exporter": "python",
   "pygments_lexer": "ipython3",
   "version": "3.11.3"
  }
 },
 "nbformat": 4,
 "nbformat_minor": 5
}
